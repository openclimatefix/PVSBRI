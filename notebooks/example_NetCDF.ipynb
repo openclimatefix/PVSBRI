{
 "cells": [
  {
   "cell_type": "code",
   "execution_count": null,
   "id": "f1ff1ac9",
   "metadata": {},
   "outputs": [],
   "source": [
    "%load_ext autoreload\n",
    "%autoreload 2"
   ]
  },
  {
   "cell_type": "code",
   "execution_count": null,
   "id": "f7cbdac1",
   "metadata": {},
   "outputs": [],
   "source": [
    "# https://www.youtube.com/watch?v=CnD5coIDw2U\n",
    "import xarray as xr\n",
    "import pandas as pd\n",
    "import os\n",
    "import matplotlib.pyplot as plt\n",
    "import plotly.graph_objs as go\n",
    "import plotly.express as px"
   ]
  },
  {
   "cell_type": "code",
   "execution_count": null,
   "id": "9ee26e05",
   "metadata": {},
   "outputs": [],
   "source": [
    "# It's always annoying to set the working directory: we use an environment variable defined in the Makefile.\n",
    "CWD = os.environ.get(\"CWD\")\n",
    "if CWD:\n",
    "    os.chdir(CWD)\n",
    "\n",
    "print(CWD)"
   ]
  },
  {
   "cell_type": "code",
   "execution_count": null,
   "id": "f4faee1c",
   "metadata": {},
   "outputs": [],
   "source": [
    "# data = xr.open_dataset(\"./data/AeN_SeaWaterChlorophyllA_20191210_P2.nc\")\n",
    "data = xr.open_dataset(\"./data/island_A/exported/data_15min_FIN.nc\")\n",
    "\n",
    "data"
   ]
  },
  {
   "cell_type": "code",
   "execution_count": null,
   "id": "819919f8",
   "metadata": {},
   "outputs": [],
   "source": [
    "# convert to pandas dataframe\n",
    "df_data = data.to_dataframe()"
   ]
  },
  {
   "cell_type": "code",
   "execution_count": null,
   "id": "f2010c4d",
   "metadata": {},
   "outputs": [],
   "source": [
    "# ---------- 15 MIN DATA --------------\n",
    "# --------- PLOTLY GO CHARTS --------------\n",
    "\n",
    "# Create a line plot of the '15-Minute Output MWh' variable in plotly Go\n",
    "fig = go.Figure()\n",
    "fig.add_trace(go.Scatter(x=data[\"datetimeUTC\"], y=data[\"15-Minute Output MWh\"], mode=\"lines\"))\n",
    "\n",
    "# Add labels and title to the plot\n",
    "fig.update_layout(\n",
    "    title=\"15-Minute Output MWh over time\", xaxis_title=\"Time\", yaxis_title=\"15-Minute Output MWh\"\n",
    ")\n",
    "\n",
    "# Display the plot\n",
    "fig.show()"
   ]
  },
  {
   "cell_type": "code",
   "execution_count": null,
   "id": "b4566d14",
   "metadata": {},
   "outputs": [],
   "source": [
    "# Create a line plot of the '1Total Installed Capacity MWp' variable\n",
    "fig = go.Figure()\n",
    "fig.add_trace(\n",
    "    go.Scatter(x=data[\"datetimeUTC\"], y=data[\"Total Installed Capacity MWp\"], mode=\"lines\")\n",
    ")\n",
    "\n",
    "# Add labels and title to the plot\n",
    "fig.update_layout(\n",
    "    title=\"Total Installed Capacity MWp over time\",\n",
    "    xaxis_title=\"Time\",\n",
    "    yaxis_title=\"Total Installed Capacity MWp\",\n",
    ")\n",
    "\n",
    "# Display the plot\n",
    "fig.show()"
   ]
  },
  {
   "cell_type": "code",
   "execution_count": null,
   "id": "228bbeaa",
   "metadata": {},
   "outputs": [],
   "source": [
    "# ---------- PLOTLY EXPRESS CHARTS ------------\n",
    "# ------- HEAVY CPU USAGE BUT HIGH ACCURACY -----\n",
    "\n",
    "# Reset the index to include the datetimeUTC coordinate\n",
    "df_data.reset_index(inplace=True)\n",
    "\n",
    "# Create a line plot of the '15-Minute Output MWh' variable\n",
    "fig = px.line(\n",
    "    df_data, x=\"datetimeUTC\", y=\"15-Minute Output MWh\", title=\"15-Minute Output MWh over time\"\n",
    ")\n",
    "\n",
    "# Display the plot\n",
    "fig.show()"
   ]
  },
  {
   "cell_type": "code",
   "execution_count": null,
   "id": "59a234fa",
   "metadata": {
    "scrolled": true
   },
   "outputs": [],
   "source": [
    "# Reset the index to include the datetimeUTC coordinate\n",
    "# df_data.reset_index(inplace=True)\n",
    "\n",
    "# Create a line plot of the '15-Minute Output MWh' variable\n",
    "fig = px.line(\n",
    "    df_data,\n",
    "    x=\"datetimeUTC\",\n",
    "    y=\"Total Installed Capacity MWp\",\n",
    "    title=\"Total Installed Capacity MWp over time\",\n",
    ")\n",
    "\n",
    "# Display the plot\n",
    "fig.show()"
   ]
  },
  {
   "cell_type": "code",
   "execution_count": null,
   "id": "2f2c61d2",
   "metadata": {},
   "outputs": [],
   "source": [
    "# --------- MATPLOT LIB CHARTS -----------\n",
    "\n",
    "# Create a line plot of the '15-Minute Output MWh' variable\n",
    "data[\"15-Minute Output MWh\"].plot.line()\n",
    "\n",
    "# Add labels and title to the plot\n",
    "plt.xlabel(\"Time\")\n",
    "plt.ylabel(\"15-Minute Output MWh\")\n",
    "plt.title(\"15-Minute Output MWh over time\")\n",
    "\n",
    "# Display the plot\n",
    "plt.show()"
   ]
  },
  {
   "cell_type": "code",
   "execution_count": null,
   "id": "624553b2",
   "metadata": {},
   "outputs": [],
   "source": [
    "data[\"Number of meters utilised\"].plot.line()\n",
    "\n",
    "# Add labels and title to the plot\n",
    "plt.xlabel(\"Time\")\n",
    "plt.ylabel(\"Number of meters utilised\")\n",
    "plt.title(\"Number of meters utilised over time\")\n",
    "\n",
    "# Display the plot\n",
    "plt.show()"
   ]
  },
  {
   "cell_type": "code",
   "execution_count": null,
   "id": "6103637b",
   "metadata": {},
   "outputs": [],
   "source": [
    "data[\"Total Installed Capacity MWp\"].plot.line()\n",
    "\n",
    "# Add labels and title to the plot\n",
    "plt.xlabel(\"Time\")\n",
    "plt.ylabel(\"Total Installed Capacity MWp\")\n",
    "plt.title(\"Total Installed Capacity MWp over time\")\n",
    "\n",
    "# Display the plot\n",
    "plt.show()"
   ]
  },
  {
   "cell_type": "code",
   "execution_count": null,
   "id": "8dc7e497",
   "metadata": {},
   "outputs": [],
   "source": [
    "data[\"Power at point in time MW\"].plot.line()\n",
    "\n",
    "# Add labels and title to the plot\n",
    "plt.xlabel(\"Time\")\n",
    "plt.ylabel(\"Power at point in time MW\")\n",
    "plt.title(\"Power at point in time MW over time\")\n",
    "\n",
    "# Display the plot\n",
    "plt.show()"
   ]
  },
  {
   "cell_type": "code",
   "execution_count": null,
   "id": "5b8ef7f0",
   "metadata": {},
   "outputs": [],
   "source": [
    "# -------- HOURLY CHARTS ---------\n",
    "\n",
    "data_hourly = xr.open_dataset(\"./data/island_A/exported/data_hourly_FIN.nc\")\n",
    "df_hourly = data_hourly.to_dataframe()"
   ]
  },
  {
   "cell_type": "code",
   "execution_count": null,
   "id": "052d95ee",
   "metadata": {},
   "outputs": [],
   "source": [
    "data_hourly"
   ]
  },
  {
   "cell_type": "code",
   "execution_count": null,
   "id": "8ff6e459",
   "metadata": {},
   "outputs": [],
   "source": [
    "# Look at data variables\n",
    "print(data_hourly.data_vars)"
   ]
  },
  {
   "cell_type": "code",
   "execution_count": null,
   "id": "f77847cf",
   "metadata": {},
   "outputs": [],
   "source": [
    "# --------- PLOTLY GO CHARTS --------------\n",
    "\n",
    "# Create a line plot of the '15-Minute Output MWh' variable in plotly Go\n",
    "fig = go.Figure()\n",
    "fig.add_trace(\n",
    "    go.Scatter(\n",
    "        x=data_hourly[\"datetimeUTC\"], y=data_hourly[\"Hourly PV Generated Units\"], mode=\"lines\"\n",
    "    )\n",
    ")\n",
    "\n",
    "# Add labels and title to the plot\n",
    "fig.update_layout(\n",
    "    title=\"Hourly PV Generated Units over time\",\n",
    "    xaxis_title=\"Time\",\n",
    "    yaxis_title=\"Hourly PV Generated Units\",\n",
    ")\n",
    "\n",
    "# Display the plot\n",
    "fig.show()"
   ]
  },
  {
   "cell_type": "code",
   "execution_count": null,
   "id": "45ce4b2a",
   "metadata": {},
   "outputs": [],
   "source": [
    "# Create a line plot of the '15-Minute Output MWh' variable in plotly Go\n",
    "fig = go.Figure()\n",
    "fig.add_trace(\n",
    "    go.Scatter(x=data_hourly[\"datetimeUTC\"], y=data_hourly[\"Total Max Capacity\"], mode=\"lines\")\n",
    ")\n",
    "\n",
    "# Add labels and title to the plot\n",
    "fig.update_layout(\n",
    "    title=\"Total Max Capacity over time\", xaxis_title=\"Time\", yaxis_title=\"Total Max Capacity\"\n",
    ")\n",
    "\n",
    "# Display the plot\n",
    "fig.show()"
   ]
  },
  {
   "cell_type": "code",
   "execution_count": null,
   "id": "2d6ce9d4",
   "metadata": {},
   "outputs": [],
   "source": [
    "fig = go.Figure()\n",
    "fig.add_trace(\n",
    "    go.Scatter(\n",
    "        x=data_hourly[\"datetimeUTC\"],\n",
    "        y=data_hourly[\" Total Max Capacity of Read Meters/KW\"],\n",
    "        mode=\"lines\",\n",
    "    )\n",
    ")\n",
    "\n",
    "# Add labels and title to the plot\n",
    "fig.update_layout(\n",
    "    title=\"Total Max Capacity of Read Meters/KW over time\",\n",
    "    xaxis_title=\"Time\",\n",
    "    yaxis_title=\"Total Max Capacity of Read Meters/KW\",\n",
    ")\n",
    "\n",
    "# Display the plot\n",
    "fig.show()"
   ]
  },
  {
   "cell_type": "code",
   "execution_count": null,
   "id": "736eb418",
   "metadata": {},
   "outputs": [],
   "source": [
    "fig = go.Figure()\n",
    "fig.add_trace(\n",
    "    go.Scatter(\n",
    "        x=data_hourly[\"datetimeUTC\"],\n",
    "        y=data_hourly[\" Total Max Capacity of Read Meters/KW\"],\n",
    "        mode=\"lines\",\n",
    "    )\n",
    ")\n",
    "\n",
    "# Add labels and title to the plot\n",
    "fig.update_layout(\n",
    "    title=\"Total Max Capacity of Read Meters/KW over time\",\n",
    "    xaxis_title=\"Time\",\n",
    "    yaxis_title=\"Total Max Capacity of Read Meters/KW\",\n",
    ")\n",
    "\n",
    "# Display the plot\n",
    "fig.show()"
   ]
  },
  {
   "cell_type": "code",
   "execution_count": null,
   "id": "f10d5fbf",
   "metadata": {},
   "outputs": [],
   "source": []
  },
  {
   "cell_type": "code",
   "execution_count": null,
   "id": "885ec302",
   "metadata": {},
   "outputs": [],
   "source": []
  },
  {
   "cell_type": "code",
   "execution_count": null,
   "id": "deaf7df4",
   "metadata": {},
   "outputs": [],
   "source": [
    "# printing just the arrtibutes\n",
    "# This work similar to the python dictionary\n",
    "print(data.attrs)"
   ]
  },
  {
   "cell_type": "code",
   "execution_count": null,
   "id": "79632b64",
   "metadata": {},
   "outputs": [],
   "source": []
  },
  {
   "cell_type": "code",
   "execution_count": null,
   "id": "241fef35",
   "metadata": {},
   "outputs": [],
   "source": []
  },
  {
   "cell_type": "code",
   "execution_count": null,
   "id": "03af7bca",
   "metadata": {},
   "outputs": [],
   "source": []
  },
  {
   "cell_type": "code",
   "execution_count": null,
   "id": "d7f15b13",
   "metadata": {},
   "outputs": [],
   "source": []
  },
  {
   "cell_type": "code",
   "execution_count": null,
   "id": "cd12ece7",
   "metadata": {},
   "outputs": [],
   "source": [
    "print(data.coords)"
   ]
  },
  {
   "cell_type": "code",
   "execution_count": null,
   "id": "427bc14a",
   "metadata": {},
   "outputs": [],
   "source": [
    "print(data.attrs[\"15-Minute Output MWh\"])"
   ]
  },
  {
   "cell_type": "code",
   "execution_count": null,
   "id": "b8495a4d",
   "metadata": {},
   "outputs": [],
   "source": [
    "# Look at data variables\n",
    "print(data.data_vars)"
   ]
  },
  {
   "cell_type": "code",
   "execution_count": null,
   "id": "016f3397",
   "metadata": {},
   "outputs": [],
   "source": [
    "print(data[\"15-Minute Output MWh\"])"
   ]
  },
  {
   "cell_type": "code",
   "execution_count": null,
   "id": "838f0961",
   "metadata": {},
   "outputs": [],
   "source": [
    "# can also plot the data in xarray\n",
    "xr.plot.scatter(data, \"datetimeUTC\", \"15-Minute Output MWh\")"
   ]
  },
  {
   "cell_type": "code",
   "execution_count": null,
   "id": "188ab1a9",
   "metadata": {},
   "outputs": [],
   "source": [
    "xr.plot.line(data[\"CHLOROPHYLL_A\"].dropna(\"DEPTH\"), y=\"DEPTH\", yincrease=False)"
   ]
  },
  {
   "cell_type": "code",
   "execution_count": null,
   "id": "bfe46ef2",
   "metadata": {},
   "outputs": [],
   "source": [
    "df = data[\"CHLOROPHYLL_A\"]"
   ]
  }
 ],
 "metadata": {
  "kernelspec": {
   "display_name": "Python 3 (ipykernel)",
   "language": "python",
   "name": "python3"
  },
  "language_info": {
   "codemirror_mode": {
    "name": "ipython",
    "version": 3
   },
   "file_extension": ".py",
   "mimetype": "text/x-python",
   "name": "python",
   "nbconvert_exporter": "python",
   "pygments_lexer": "ipython3",
   "version": "3.10.9"
  },
  "toc": {
   "base_numbering": 1,
   "nav_menu": {},
   "number_sections": true,
   "sideBar": true,
   "skip_h1_title": false,
   "title_cell": "Table of Contents",
   "title_sidebar": "Contents",
   "toc_cell": false,
   "toc_position": {},
   "toc_section_display": true,
   "toc_window_display": false
  }
 },
 "nbformat": 4,
 "nbformat_minor": 5
}
