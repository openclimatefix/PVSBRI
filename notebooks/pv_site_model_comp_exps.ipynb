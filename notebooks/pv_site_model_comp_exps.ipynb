{
 "cells": [
  {
   "cell_type": "code",
   "execution_count": null,
   "id": "133f4501",
   "metadata": {},
   "outputs": [],
   "source": [
    "%load_ext autoreload\n",
    "%autoreload 2"
   ]
  },
  {
   "cell_type": "code",
   "execution_count": null,
   "id": "b46285ed",
   "metadata": {},
   "outputs": [],
   "source": [
    "import datetime\n",
    "import os\n",
    "import pathlib\n",
    "\n",
    "import pandas as pd\n",
    "import altair as alt\n",
    "import numpy as np\n",
    "import xarray as xr\n",
    "import matplotlib.pyplot as plt\n",
    "\n",
    "import plotly.express as px"
   ]
  },
  {
   "cell_type": "code",
   "execution_count": null,
   "id": "2666b613",
   "metadata": {},
   "outputs": [],
   "source": [
    "PV_DATA_PATH = \"/mnt/storage_b/data/ocf/solar_pv_nowcasting/clients/uk_pv/5min_v3.nc\"\n",
    "\n",
    "ds = xr.open_dataset(PV_DATA_PATH)\n",
    "ds"
   ]
  },
  {
   "cell_type": "code",
   "execution_count": null,
   "id": "8e80b7e1",
   "metadata": {},
   "outputs": [],
   "source": [
    "def plot_histograms(ds, variables):\n",
    "    for var in variables:\n",
    "        data = ds[var]\n",
    "        plt.figure(figsize=(10, 6))\n",
    "        data.plot.hist(bins=200, edgecolor=\"black\", alpha=0.9)\n",
    "        plt.title(f\"{var} Error Distribution\")\n",
    "        plt.xlabel(f\"{var} Value\")\n",
    "        plt.ylabel(\"Frequency\")\n",
    "        plt.show()"
   ]
  },
  {
   "cell_type": "code",
   "execution_count": null,
   "id": "5655d14b",
   "metadata": {},
   "outputs": [],
   "source": [
    "variables = [\"orientation\", \"tilt\", \"kwp\"]\n",
    "plot_histograms(ds, variables)"
   ]
  }
 ],
 "metadata": {
  "kernelspec": {
   "display_name": "Python 3 (ipykernel)",
   "language": "python",
   "name": "python3"
  },
  "language_info": {
   "codemirror_mode": {
    "name": "ipython",
    "version": 3
   },
   "file_extension": ".py",
   "mimetype": "text/x-python",
   "name": "python",
   "nbconvert_exporter": "python",
   "pygments_lexer": "ipython3",
   "version": "3.10.10"
  }
 },
 "nbformat": 4,
 "nbformat_minor": 5
}
