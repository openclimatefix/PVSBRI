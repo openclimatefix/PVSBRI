{
 "cells": [
  {
   "cell_type": "code",
   "execution_count": null,
   "id": "0c7dbb25",
   "metadata": {},
   "outputs": [],
   "source": [
    "%load_ext autoreload\n",
    "%autoreload 2"
   ]
  },
  {
   "cell_type": "code",
   "execution_count": null,
   "id": "787d0b6a",
   "metadata": {},
   "outputs": [],
   "source": [
    "import datetime\n",
    "import os\n",
    "import pathlib\n",
    "\n",
    "import pandas as pd\n",
    "import altair as alt\n",
    "import numpy as np\n",
    "import xarray as xr\n",
    "import matplotlib.pyplot as plt\n",
    "\n",
    "import plotly.express as px\n",
    "\n",
    "alt.data_transformers.disable_max_rows()\n",
    "\n",
    "\n",
    "def _(df, *args, **kwargs):\n",
    "    print(len(df))\n",
    "    display(df.head(*args, **kwargs))"
   ]
  },
  {
   "cell_type": "code",
   "execution_count": null,
   "id": "60f13f7c",
   "metadata": {},
   "outputs": [],
   "source": [
    "PV_DATA_PATH = (\n",
    "    #     \"/mnt/storage_b/data/ocf/solar_pv_nowcasting/nowcasting_dataset_pipeline/\"\n",
    "    #     \"PV/sme/zarr_format/sme_t5.zarr\"\n",
    "    \"/mnt/storage_b/data/ocf/solar_pv_nowcasting/nowcasting_dataset_pipeline/PV/sme/v1/all/sme_all.nc\"\n",
    ")\n",
    "\n",
    "ds = xr.open_dataset(PV_DATA_PATH)\n",
    "ds"
   ]
  },
  {
   "cell_type": "code",
   "execution_count": null,
   "id": "14782571",
   "metadata": {},
   "outputs": [],
   "source": [
    "# sel_ds = ds.sel(pv_id=6331,ts > \"2022-01-01T21:30:00.000000000\")\n",
    "sel_ds = ds.sel(pv_id=6331).where(ds[\"ts\"] > np.datetime64(\"2022-07-01T21:30:00.000000000\"))\n",
    "sel_ds"
   ]
  },
  {
   "cell_type": "code",
   "execution_count": null,
   "id": "83e43d5d",
   "metadata": {},
   "outputs": [],
   "source": [
    "plt.figure(figsize=(12, 6))\n",
    "sel_ds[\"power\"].plot()\n",
    "plt.title(\"Power vs. Time\")\n",
    "plt.xlabel(\"Time\")\n",
    "plt.ylabel(\"Power\")\n",
    "plt.grid(True)\n",
    "plt.tight_layout()\n",
    "plt.show()"
   ]
  },
  {
   "cell_type": "code",
   "execution_count": null,
   "id": "ac861809",
   "metadata": {},
   "outputs": [],
   "source": [
    "# Counting NaNs\n",
    "# Assuming ds is your xarray Dataset\n",
    "nan_count = ds[\"power\"].isnull().sum().values\n",
    "\n",
    "print(f\"There are {nan_count} NaN values in the 'power' data variable.\")\n",
    "\n",
    "# Assuming ds is your xarray Dataset\n",
    "nan_counts_per_pv = ds[\"power\"].isnull().sum(dim=\"ts\")\n",
    "\n",
    "# Extracting data to plot\n",
    "pv_ids = nan_counts_per_pv.pv_id.values\n",
    "nan_counts = nan_counts_per_pv.values\n",
    "\n",
    "# Plotting\n",
    "fig, ax = plt.subplots(figsize=(10, 6))\n",
    "ax.bar(range(len(pv_ids)), nan_counts, tick_label=pv_ids)\n",
    "\n",
    "ax.set_title(\"Number of NaNs for each pv_id\")\n",
    "ax.set_xlabel(\"pv_id\")\n",
    "ax.set_ylabel(\"Count of NaNs\")\n",
    "ax.set_xticks(range(len(pv_ids)))\n",
    "ax.set_xticklabels(pv_ids, rotation=45)\n",
    "\n",
    "plt.tight_layout()\n",
    "plt.show()"
   ]
  },
  {
   "cell_type": "code",
   "execution_count": null,
   "id": "9fd37c5e",
   "metadata": {},
   "outputs": [],
   "source": [
    "# Where daily sum of power is 0, including NaNs\n",
    "\n",
    "# Assuming ds is your xarray Dataset\n",
    "# Resample to daily frequency and sum over each day]\n",
    "# Assuming ds is your xarray dataset\n",
    "ds_dropna = ds.dropna(dim=\"ts\", subset=[\"power\"])\n",
    "\n",
    "daily_sum = ds_dropna[\"power\"].resample(ts=\"D\").sum()\n",
    "\n",
    "# Count days where summed power is 0 for each pv_id\n",
    "zero_power_days = (daily_sum == 0).sum(dim=\"ts\")\n",
    "\n",
    "# Extracting data to plot\n",
    "pv_ids = zero_power_days.pv_id.values\n",
    "zero_days_counts = zero_power_days.values\n",
    "\n",
    "# Plotting\n",
    "fig, ax = plt.subplots(figsize=(10, 6))\n",
    "ax.bar(range(len(pv_ids)), zero_days_counts, tick_label=pv_ids)\n",
    "\n",
    "ax.set_title(\"Number of days with zero summed power for each pv_id\")\n",
    "ax.set_xlabel(\"pv_id\")\n",
    "ax.set_ylabel(\"Count of days\")\n",
    "ax.set_xticks(range(len(pv_ids)))\n",
    "ax.set_xticklabels(pv_ids, rotation=45)\n",
    "\n",
    "plt.tight_layout()\n",
    "plt.show()"
   ]
  },
  {
   "cell_type": "code",
   "execution_count": null,
   "id": "cedfcdae",
   "metadata": {},
   "outputs": [],
   "source": [
    "# I now want to split the dataset to create two new datasets, where stark meter\n",
    "# is 1 for one, and 0 for another\n",
    "# Assuming your data is stored in a variable called 'ds'\n",
    "ds_starkmeter_1 = ds.where(ds.StarkMeter == 1, drop=True)\n",
    "pv_ids = ds_starkmeter_1[\"pv_id\"].values\n",
    "\n",
    "# Print all the pv_ids\n",
    "print(\"Sites with a StarkMeter:\")\n",
    "for id in pv_ids:\n",
    "    print(id)\n",
    "ds_starkmeter_0 = ds.where(ds.StarkMeter == 0, drop=True)\n",
    "\n",
    "print(\"Sites without a StarkMeter:\")\n",
    "pv_ids = ds_starkmeter_0[\"pv_id\"].values\n",
    "\n",
    "# Print all the pv_ids\n",
    "for id in pv_ids:\n",
    "    print(id)"
   ]
  },
  {
   "cell_type": "code",
   "execution_count": null,
   "id": "161ded9e",
   "metadata": {},
   "outputs": [],
   "source": [
    "ds_starkmeter_1\n",
    "save_path = (\n",
    "    \"/mnt/storage_b/data/ocf/solar_pv_nowcasting/nowcasting_dataset_pipeline/\"\n",
    "    \"PV/sme/v1/stark/sme_stark.nc\"\n",
    ")\n",
    "ds_starkmeter_1.to_netcdf(save_path)"
   ]
  },
  {
   "cell_type": "code",
   "execution_count": null,
   "id": "68fea54b",
   "metadata": {},
   "outputs": [],
   "source": [
    "ds_starkmeter_0\n",
    "save_path = (\n",
    "    \"/mnt/storage_b/data/ocf/solar_pv_nowcasting/nowcasting_dataset_pipeline/\"\n",
    "    \"PV/sme/v1/no_stark/sme_no_stark.nc\"\n",
    ")\n",
    "ds_starkmeter_0.to_netcdf(save_path)"
   ]
  },
  {
   "cell_type": "code",
   "execution_count": null,
   "id": "fd130d59",
   "metadata": {},
   "outputs": [],
   "source": [
    "ds_starkmeter_0"
   ]
  },
  {
   "cell_type": "code",
   "execution_count": null,
   "id": "82555e44",
   "metadata": {},
   "outputs": [],
   "source": [
    "# checking that change was made to the pv id 4353 due to incrorrect postcode\n",
    "# Extract latitude and longitude values for pv_id 4353\n",
    "lat_value = ds.latitude.sel(pv_id=4353).values.item()\n",
    "lon_value = ds.longitude.sel(pv_id=4353).values.item()\n",
    "\n",
    "print(f\"Latitude for pv_id 4353: {lat_value}\")\n",
    "print(f\"Longitude for pv_id 4353: {lon_value}\")"
   ]
  }
 ],
 "metadata": {
  "kernelspec": {
   "display_name": "Python 3 (ipykernel)",
   "language": "python",
   "name": "python3"
  },
  "language_info": {
   "codemirror_mode": {
    "name": "ipython",
    "version": 3
   },
   "file_extension": ".py",
   "mimetype": "text/x-python",
   "name": "python",
   "nbconvert_exporter": "python",
   "pygments_lexer": "ipython3",
   "version": "3.10.10"
  }
 },
 "nbformat": 4,
 "nbformat_minor": 5
}
