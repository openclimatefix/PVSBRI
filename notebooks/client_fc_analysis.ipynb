{
 "cells": [
  {
   "cell_type": "code",
   "execution_count": null,
   "id": "4c104625",
   "metadata": {},
   "outputs": [],
   "source": [
    "# This script is optimised specificly for the \"island\" use case"
   ]
  },
  {
   "cell_type": "code",
   "execution_count": null,
   "id": "16bd1baa",
   "metadata": {},
   "outputs": [],
   "source": [
    "import xarray as xr\n",
    "import netCDF4\n",
    "import pandas as pd\n",
    "import xarray as xr\n",
    "import numpy as np\n",
    "import datetime"
   ]
  },
  {
   "cell_type": "code",
   "execution_count": null,
   "id": "faaf5247",
   "metadata": {},
   "outputs": [],
   "source": [
    "# Load in client forecast and ocf forecast\n",
    "data_cli = \"/mnt/storage_b/data/ocf/solar_pv_nowcasting/clients/island/island_client_fc_UTC.nc\"\n",
    "# data_ocf = \"/mnt/storage_b/data/ocf/solar_pv_nowcasting/clients/island/ocf_model.csv\"\n",
    "data_ocf = \"/mnt/storage_b/data/ocf/solar_pv_nowcasting/clients/island/ocf_model_excT_gfsT_8t/test_errors.csv\""
   ]
  },
  {
   "cell_type": "code",
   "execution_count": null,
   "id": "8288212f",
   "metadata": {},
   "outputs": [],
   "source": [
    "ds_cli = xr.open_dataset(data_cli)\n",
    "# just interested in 'power' (client fc)\n",
    "ds_cli = ds_cli[\"power\"]\n",
    "df_cli = ds_cli.to_dataframe().reset_index()\n",
    "df_cli.drop([\"pv_id\", \"latitude\", \"longitude\"], axis=1, inplace=True)\n",
    "df_cli = df_cli.rename(columns={\"power\": \"client\"})\n",
    "df_cli = df_cli.rename(columns={\"ts\": \"ts_end\"})\n",
    "\n",
    "df_ocf = pd.read_csv(data_ocf)\n",
    "print(df_ocf)\n",
    "print(df_cli)"
   ]
  },
  {
   "cell_type": "code",
   "execution_count": null,
   "id": "f92442ef",
   "metadata": {},
   "outputs": [],
   "source": [
    "# Clients forecast is made the previous day, so we want to take account of this.\n",
    "def gen_time_step_cli(df):\n",
    "\n",
    "    df[\"ts_start\"] = df[\"ts_end\"] - pd.to_timedelta(1, unit=\"h\")\n",
    "\n",
    "    # Subtract 1 day from each ts value\n",
    "    ts_minus_1_day = df[\"ts_start\"] - pd.DateOffset(days=1)\n",
    "\n",
    "    # Set the time component of each ts value to 10:00:00\n",
    "    ts = ts_minus_1_day.dt.floor(\"D\") + pd.Timedelta(hours=10)\n",
    "\n",
    "    # Calculate the time difference between ts and init_time in minutes\n",
    "    horizon = ((df[\"ts_start\"] - ts) / pd.Timedelta(minutes=1)).astype(int)\n",
    "\n",
    "    df[\"ts\"] = ts\n",
    "    df[\"horizon\"] = horizon\n",
    "\n",
    "    print(df)\n",
    "    return df"
   ]
  },
  {
   "cell_type": "code",
   "execution_count": null,
   "id": "b191b0a5",
   "metadata": {},
   "outputs": [],
   "source": [
    "df_cli = gen_time_step_cli(df_cli)"
   ]
  },
  {
   "cell_type": "code",
   "execution_count": null,
   "id": "5901dddb",
   "metadata": {},
   "outputs": [],
   "source": [
    "# Filter OCFs forecast to only include specific horizons and times.\n",
    "def filt_on_time(df):\n",
    "    df[\"ts\"] = pd.to_datetime(df[\"ts\"])\n",
    "    df[\"time\"] = df[\"ts\"].dt.time\n",
    "\n",
    "    desired_time = pd.to_datetime(\"10:00:00\").time()\n",
    "    selected_rows = df[(df[\"time\"] == desired_time) & (df[\"horizon\"].between(840, 2279))]\n",
    "\n",
    "    #     desired_time = pd.to_datetime('05:00:00').time()\n",
    "    #     selected_rows = df[(df['time'] == desired_time) & (df['horizon'].between(0, 1439))]\n",
    "\n",
    "    new_df = selected_rows[[\"ts_start\", \"ts\", \"y\", \"pred\", \"horizon\"]]\n",
    "    new_df = new_df.rename(columns={\"y\": \"truth\"})\n",
    "    new_df = new_df.rename(columns={\"pred\": \"ocf\"})\n",
    "\n",
    "    return new_df"
   ]
  },
  {
   "cell_type": "code",
   "execution_count": null,
   "id": "9652e30e",
   "metadata": {},
   "outputs": [],
   "source": [
    "df_ocf_10 = filt_on_time(df_ocf)\n",
    "df_ocf_10"
   ]
  },
  {
   "cell_type": "code",
   "execution_count": null,
   "id": "394e0432",
   "metadata": {},
   "outputs": [],
   "source": [
    "df_cli[\"ts_start\"] = pd.to_datetime(df_cli[\"ts_start\"])\n",
    "df_ocf_10[\"ts_start\"] = pd.to_datetime(df_ocf_10[\"ts_start\"])\n",
    "merged_df = pd.merge(df_cli, df_ocf_10, on=[\"ts_start\", \"ts\", \"horizon\"])\n",
    "merged_df.head(20)"
   ]
  },
  {
   "cell_type": "code",
   "execution_count": null,
   "id": "f7eb4e1e",
   "metadata": {},
   "outputs": [],
   "source": [
    "def mae_cal(df):\n",
    "    # Calculate the MAE between \"power\" and \"truth\"\n",
    "    mae_client = np.mean(np.abs(df[\"client\"] - df[\"truth\"]))\n",
    "\n",
    "    # Calculate the MAE between \"ocf\" and \"truth\"\n",
    "    mae_ocf = np.mean(np.abs(df[\"ocf\"] - df[\"truth\"]))\n",
    "\n",
    "    print(\"MAE between client and truth:\", mae_client)\n",
    "    print(\"MAE between ocf and truth:\", mae_ocf)"
   ]
  },
  {
   "cell_type": "code",
   "execution_count": null,
   "id": "d9632dcb",
   "metadata": {},
   "outputs": [],
   "source": [
    "mae_cal(merged_df)"
   ]
  },
  {
   "cell_type": "code",
   "execution_count": null,
   "id": "3db357ed",
   "metadata": {},
   "outputs": [],
   "source": [
    "# Compare the performance on specific days\n",
    "# Viewing the error on specific days\n",
    "dates = [\n",
    "    \"01/10/2022\",\n",
    "    \"08/10/2022\",\n",
    "    \"10/10/2022\",\n",
    "    \"12/10/2022\",\n",
    "    \"14/10/2022\",\n",
    "    \"20/10/2022\",\n",
    "    \"21/10/2022\",\n",
    "    \"05/11/2022\",\n",
    "    \"10/11/2022\",\n",
    "    \"11/11/2022\",\n",
    "    \"12/11/2022\",\n",
    "    \"14/11/2022\",\n",
    "    \"15/11/2022\",\n",
    "    \"17/11/2022\",\n",
    "    \"21/11/2022\",\n",
    "    \"23/11/2022\",\n",
    "    \"25/11/2022\",\n",
    "    \"26/11/2022\",\n",
    "    \"28/11/2022\",\n",
    "]\n",
    "# Convert the list of dates to a pandas datetime\n",
    "date_index = pd.to_datetime(dates, format=\"%d/%m/%Y\")"
   ]
  },
  {
   "cell_type": "code",
   "execution_count": null,
   "id": "e93c1f60",
   "metadata": {
    "scrolled": true
   },
   "outputs": [],
   "source": [
    "merged_df"
   ]
  },
  {
   "cell_type": "code",
   "execution_count": null,
   "id": "34795d6f",
   "metadata": {},
   "outputs": [],
   "source": [
    "def mae_on_date(df, date):\n",
    "    date = pd.to_datetime(date)\n",
    "    df_s = df[df[\"ts\"].dt.date == date.date()]\n",
    "\n",
    "    mae_client = np.mean(np.abs(df_s[\"client\"] - df_s[\"truth\"]))\n",
    "    mae_ocf = np.mean(np.abs(df_s[\"ocf\"] - df_s[\"truth\"]))\n",
    "\n",
    "    return mae_client, mae_ocf"
   ]
  },
  {
   "cell_type": "code",
   "execution_count": null,
   "id": "f0a9994c",
   "metadata": {},
   "outputs": [],
   "source": [
    "mae_list = []  # we start with an empty list\n",
    "\n",
    "for i in date_index:\n",
    "    # Calculating mae for each date\n",
    "    mae_client, mae_ocf = mae_on_date(merged_df, i)\n",
    "\n",
    "    # Appending the results to the list\n",
    "    mae_list.append({\"date\": i, \"mae_client\": mae_client, \"mae_ocf\": mae_ocf})\n",
    "\n",
    "# convert the list of dicts to a DataFrame\n",
    "mae_on_dates = pd.DataFrame(mae_list)"
   ]
  },
  {
   "cell_type": "code",
   "execution_count": null,
   "id": "3c60ac60",
   "metadata": {},
   "outputs": [],
   "source": [
    "mae_on_dates"
   ]
  },
  {
   "cell_type": "code",
   "execution_count": null,
   "id": "da6dbd9c",
   "metadata": {},
   "outputs": [],
   "source": [
    "avg_mae_client = mae_on_dates[\"mae_client\"].mean()\n",
    "avg_mae_ocf = mae_on_dates[\"mae_ocf\"].mean()\n",
    "print(\"avg mae client\", avg_mae_client)\n",
    "print(\"avg mae ocf\", avg_mae_ocf)"
   ]
  },
  {
   "cell_type": "code",
   "execution_count": null,
   "id": "aecd621b",
   "metadata": {},
   "outputs": [],
   "source": [
    "import pandas as pd\n",
    "import matplotlib.pyplot as plt\n",
    "\n",
    "\n",
    "def plot_on_date(df, specific_ts):\n",
    "    specific_data = df[df[\"ts\"] == specific_ts]\n",
    "\n",
    "    plt.figure(figsize=(10, 6))\n",
    "    plt.plot(specific_data[\"horizon\"], specific_data[\"client\"], label=\"Client\")\n",
    "    plt.plot(specific_data[\"horizon\"], specific_data[\"truth\"], label=\"Truth\")\n",
    "    plt.plot(specific_data[\"horizon\"], specific_data[\"ocf\"], label=\"OCF\")\n",
    "    plt.xlabel(\"Horizon (minutes)\")\n",
    "    plt.ylabel(\"Power (MW) \")\n",
    "    plt.title(f\"Data for ts: {specific_ts}\")\n",
    "    plt.legend()\n",
    "    plt.grid(True)\n",
    "    plt.xticks(rotation=45)\n",
    "    plt.tight_layout()\n",
    "\n",
    "    # Export the plot\n",
    "    #     filename = \" \" + ts.replace(\" \", \"_\").replace(\":\", \"-\") + \".png\"\n",
    "    #     plt.savefig(filename)\n",
    "\n",
    "    plt.show()"
   ]
  },
  {
   "cell_type": "code",
   "execution_count": null,
   "id": "9d5a892f",
   "metadata": {},
   "outputs": [],
   "source": [
    "specific_ts = \"2022-10-11 10:00:00\"\n",
    "\n",
    "# dates = [\n",
    "#     \"01/10/2022\",\n",
    "#     \"08/10/2022\",\n",
    "#     \"10/10/2022\",\n",
    "#     \"12/10/2022\",\n",
    "#     \"14/10/2022\",\n",
    "#     \"20/10/2022\",\n",
    "#     \"21/10/2022\",\n",
    "#     \"05/11/2022\",\n",
    "#     \"10/11/2022\",\n",
    "#     \"11/11/2022\",\n",
    "#     \"12/11/2022\",\n",
    "#     \"14/11/2022\",\n",
    "#     \"15/11/2022\",\n",
    "#     \"17/11/2022\",\n",
    "#     \"21/11/2022\",\n",
    "#     \"23/11/2022\",\n",
    "#     \"25/11/2022\",\n",
    "#     \"26/11/2022\",\n",
    "#     \"28/11/2022\",\n",
    "# ]\n",
    "\n",
    "plot_on_date(merged_df, specific_ts)"
   ]
  },
  {
   "cell_type": "code",
   "execution_count": null,
   "id": "a9b5b0e8",
   "metadata": {},
   "outputs": [],
   "source": [
    "import datetime\n",
    "\n",
    "# Convert the string dates to datetime format\n",
    "def convert_to_datetime(date_str):\n",
    "    return datetime.datetime.strptime(date_str, \"%d/%m/%Y\")\n",
    "\n",
    "\n",
    "# dates = [\n",
    "#     \"01/10/2022\",\n",
    "#     \"08/10/2022\",\n",
    "#     \"10/10/2022\",\n",
    "#     \"12/10/2022\",\n",
    "#     \"14/10/2022\",\n",
    "#     \"20/10/2022\",\n",
    "#     \"21/10/2022\",\n",
    "#     \"05/11/2022\",\n",
    "#     \"10/11/2022\",\n",
    "#     \"11/11/2022\",\n",
    "#     \"12/11/2022\",\n",
    "#     \"14/11/2022\",\n",
    "#     \"15/11/2022\",\n",
    "#     \"17/11/2022\",\n",
    "#     \"21/11/2022\",\n",
    "#     \"23/11/2022\",\n",
    "#     \"25/11/2022\",\n",
    "#     \"26/11/2022\",\n",
    "#     \"28/11/2022\",\n",
    "# ]\n",
    "\n",
    "# Loop through each date, convert it, and apply the function\n",
    "for date_str in dates:\n",
    "    ts = convert_to_datetime(date_str).strftime(\"%Y-%m-%d 10:00:00\")\n",
    "    plot_on_date(merged_df, ts)"
   ]
  },
  {
   "cell_type": "code",
   "execution_count": null,
   "id": "e6cce935",
   "metadata": {},
   "outputs": [],
   "source": []
  }
 ],
 "metadata": {
  "kernelspec": {
   "display_name": "Python 3 (ipykernel)",
   "language": "python",
   "name": "python3"
  },
  "language_info": {
   "codemirror_mode": {
    "name": "ipython",
    "version": 3
   },
   "file_extension": ".py",
   "mimetype": "text/x-python",
   "name": "python",
   "nbconvert_exporter": "python",
   "pygments_lexer": "ipython3",
   "version": "3.10.10"
  }
 },
 "nbformat": 4,
 "nbformat_minor": 5
}
