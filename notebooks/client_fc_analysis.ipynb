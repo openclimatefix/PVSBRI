{
 "cells": [
  {
   "cell_type": "code",
   "execution_count": null,
   "id": "b3d45f3f",
   "metadata": {},
   "outputs": [],
   "source": [
    "#This script is optimised specificly for the \"island\" use case"
   ]
  },
  {
   "cell_type": "code",
   "execution_count": null,
   "id": "16bd1baa",
   "metadata": {},
   "outputs": [],
   "source": [
    "#Import libs\n",
    "import xarray as xr\n",
    "import netCDF4\n",
    "import pandas as pd\n",
    "import xarray as xr\n",
    "import numpy as np\n",
    "import altair as alt"
   ]
  },
  {
   "cell_type": "code",
   "execution_count": null,
   "id": "faaf5247",
   "metadata": {},
   "outputs": [],
   "source": [
    "#Load in client forecast and ocf forecast\n",
    "data_cli = \"/mnt/storage_b/data/ocf/solar_pv_nowcasting/clients/island/island_client_fc_UTC.nc\"\n",
    "data_ocf = \"/mnt/storage_b/data/ocf/solar_pv_nowcasting/clients/island/ocf_model.csv\""
   ]
  },
  {
   "cell_type": "code",
   "execution_count": null,
   "id": "e19b2723",
   "metadata": {},
   "outputs": [],
   "source": [
    "ds_cli = xr.open_dataset(data_cli)\n",
    "#just interested in 'power' (client fc)\n",
    "ds_cli = ds_cli['power']\n",
    "df_cli = ds_cli.to_dataframe().reset_index()\n",
    "df_cli.drop(['pv_id', 'latitude', 'longitude'], axis=1, inplace=True)\n",
    "df_cli = df_cli.rename(columns={'power': 'client'})\n",
    "df_cli = df_cli.rename(columns={'ts': 'ts_end'})\n",
    "\n",
    "df_ocf = pd.read_csv(data_ocf)"
   ]
  },
  {
   "cell_type": "code",
   "execution_count": null,
   "id": "6a6989b2",
   "metadata": {},
   "outputs": [],
   "source": [
    "df_ocf"
   ]
  },
  {
   "cell_type": "code",
   "execution_count": null,
   "id": "6240e0ef",
   "metadata": {},
   "outputs": [],
   "source": [
    "df_cli"
   ]
  },
  {
   "cell_type": "code",
   "execution_count": null,
   "id": "3f580901",
   "metadata": {},
   "outputs": [],
   "source": [
    "#Clients forecast is made the previous day, so we want to take account of this.\n",
    "\n",
    "def gen_time_step_cli(df):\n",
    "    \n",
    "    df['ts_start'] = df['ts_end'] - pd.to_timedelta(1, unit='h')\n",
    "    \n",
    "    # Subtract 1 day from each ts value\n",
    "    ts_minus_1_day = df['ts_start'] - pd.DateOffset(days=1)\n",
    "\n",
    "    # Set the time component of each ts value to 10:00:00\n",
    "    ts = ts_minus_1_day.dt.floor('D') + pd.Timedelta(hours=10)\n",
    "\n",
    "    # Calculate the time difference between ts and init_time in minutes\n",
    "    horizon = ((df['ts_start']-ts) / pd.Timedelta(minutes=1)).astype(int)\n",
    "\n",
    "    df['ts'] = ts\n",
    "    df['horizon'] = horizon\n",
    "\n",
    "    print(df)\n",
    "    return df\n"
   ]
  },
  {
   "cell_type": "code",
   "execution_count": null,
   "id": "5260f631",
   "metadata": {},
   "outputs": [],
   "source": [
    "df_cli = gen_time_step_cli(df_cli)"
   ]
  },
  {
   "cell_type": "code",
   "execution_count": null,
   "id": "d7ca9276",
   "metadata": {},
   "outputs": [],
   "source": [
    "#Filter OCFs forecast to only include specific horizons and times.\n",
    "def filt_on_time(df):\n",
    "    df['ts'] = pd.to_datetime(df['ts'])\n",
    "    df['time'] = df['ts'].dt.time\n",
    "    \n",
    "    desired_time = pd.to_datetime('10:00:00').time()\n",
    "    selected_rows = df[(df['time'] == desired_time) & (df['horizon'].between(840, 2279))]\n",
    "    \n",
    "#     desired_time = pd.to_datetime('05:00:00').time()\n",
    "#     selected_rows = df[(df['time'] == desired_time) & (df['horizon'].between(0, 1439))]\n",
    "    \n",
    "    new_df = selected_rows[['ts_start','ts', 'y', 'pred','horizon']]\n",
    "    new_df = new_df.rename(columns={'y': 'truth'})\n",
    "    new_df = new_df.rename(columns={'pred': 'ocf'})\n",
    "    \n",
    "    return new_df"
   ]
  },
  {
   "cell_type": "code",
   "execution_count": null,
   "id": "c93ab49e",
   "metadata": {},
   "outputs": [],
   "source": [
    "df_ocf_10 = filt_on_time(df_ocf)"
   ]
  },
  {
   "cell_type": "code",
   "execution_count": null,
   "id": "b13c50a1",
   "metadata": {},
   "outputs": [],
   "source": [
    "df_ocf_10"
   ]
  },
  {
   "cell_type": "code",
   "execution_count": null,
   "id": "3a40a979",
   "metadata": {},
   "outputs": [],
   "source": [
    "df_cli['ts_start'] = pd.to_datetime(df_cli['ts_start'])\n",
    "df_ocf_10['ts_start'] = pd.to_datetime(df_ocf_10['ts_start'])\n",
    "merged_df = pd.merge(df_cli, df_ocf_10, on=['ts_start','ts','horizon'])\n",
    "merged_df.head(20)"
   ]
  },
  {
   "cell_type": "code",
   "execution_count": null,
   "id": "7712f354",
   "metadata": {},
   "outputs": [],
   "source": [
    "def mae_cal(df):\n",
    "    # Calculate the MAE between \"power\" and \"truth\"\n",
    "    mae_client = np.mean(np.abs(df['client'] - df['truth']))\n",
    "\n",
    "    # Calculate the MAE between \"ocf\" and \"truth\"\n",
    "    mae_ocf = np.mean(np.abs(df['ocf'] - df['truth']))\n",
    "\n",
    "    print(\"MAE between power and truth:\", mae_client)\n",
    "    print(\"MAE between ocf and truth:\", mae_ocf)"
   ]
  },
  {
   "cell_type": "code",
   "execution_count": null,
   "id": "e7ba9c8d",
   "metadata": {},
   "outputs": [],
   "source": [
    "mae_cal(merged_df)"
   ]
  },
  {
   "cell_type": "code",
   "execution_count": null,
   "id": "36508414",
   "metadata": {},
   "outputs": [],
   "source": []
  },
  {
   "cell_type": "code",
   "execution_count": null,
   "id": "f7429126",
   "metadata": {},
   "outputs": [],
   "source": [
    "# Next i am looking to view the specifc days that the client has asked"
   ]
  },
  {
   "cell_type": "code",
   "execution_count": null,
   "id": "a044041e",
   "metadata": {},
   "outputs": [],
   "source": [
    "#Viewing the error on specific days\n",
    "dates = [\n",
    "    '01/10/2022',\n",
    "    '08/10/2022',\n",
    "    '10/10/2022',\n",
    "    '12/10/2022',\n",
    "    '14/10/2022',\n",
    "    '20/10/2022',\n",
    "    '21/10/2022',\n",
    "    '05/11/2022',\n",
    "    '10/11/2022',\n",
    "    '11/11/2022',\n",
    "    '12/11/2022',\n",
    "    '14/11/2022',\n",
    "    '15/11/2022',\n",
    "    '17/11/2022',\n",
    "    '21/11/2022',\n",
    "    '23/11/2022',\n",
    "    '25/11/2022',\n",
    "    '26/11/2022',\n",
    "    '28/11/2022'\n",
    "]\n",
    "# Convert the list of dates to a pandas datetime\n",
    "date_index = pd.to_datetime(dates, format='%d/%m/%Y')"
   ]
  },
  {
   "cell_type": "code",
   "execution_count": null,
   "id": "7fc997a2",
   "metadata": {},
   "outputs": [],
   "source": [
    "date_index"
   ]
  },
  {
   "cell_type": "code",
   "execution_count": null,
   "id": "9e823920",
   "metadata": {
    "scrolled": true
   },
   "outputs": [],
   "source": [
    "merged_df"
   ]
  },
  {
   "cell_type": "code",
   "execution_count": null,
   "id": "dd2824b7",
   "metadata": {},
   "outputs": [],
   "source": [
    "def mae_on_date(df,date):\n",
    "    date = pd.to_datetime(date)\n",
    "    df_s = df[df['ts_start'].dt.date == date.date()]\n",
    "    \n",
    "    mae_client = np.mean(np.abs(df_s['client'] - df_s['truth']))\n",
    "    mae_ocf = np.mean(np.abs(df_s['ocf'] - df_s['truth']))\n",
    "    \n",
    "    return mae_client, mae_ocf"
   ]
  },
  {
   "cell_type": "code",
   "execution_count": null,
   "id": "27ecbe4a",
   "metadata": {},
   "outputs": [],
   "source": [
    "mae_list = []  # we start with an empty list\n",
    "\n",
    "for i in date_index:\n",
    "    # Calculating mae for each date\n",
    "    mae_client, mae_ocf = mae_on_date(merged_df, i)\n",
    "    \n",
    "    # Appending the results to the list\n",
    "    mae_list.append({'date': i, 'mae_client': mae_client, 'mae_ocf': mae_ocf})\n",
    "\n",
    "# convert the list of dicts to a DataFrame\n",
    "mae_on_dates = pd.DataFrame(mae_list)\n"
   ]
  },
  {
   "cell_type": "code",
   "execution_count": null,
   "id": "3be7f304",
   "metadata": {},
   "outputs": [],
   "source": [
    "mae_on_dates"
   ]
  },
  {
   "cell_type": "code",
   "execution_count": null,
   "id": "4da263fd",
   "metadata": {},
   "outputs": [],
   "source": [
    "avg_mae_client = mae_on_dates['mae_client'].mean()\n",
    "avg_mae_ocf = mae_on_dates['mae_ocf'].mean()\n",
    "print(\"avg mae client\", avg_mae_client)\n",
    "print(\"avg mae ocf\", avg_mae_ocf)"
   ]
  },
  {
   "cell_type": "code",
   "execution_count": null,
   "id": "b91e23aa",
   "metadata": {},
   "outputs": [],
   "source": [
    "df = merged_df"
   ]
  },
  {
   "cell_type": "code",
   "execution_count": null,
   "id": "e5860a52",
   "metadata": {},
   "outputs": [],
   "source": [
    "# More analysis on the MAE for month and horizon\n",
    "# def mae_month_horizon(df):\n",
    "df['client_error'] = df['client'] - df['truth']\n",
    "df['ocf_error'] = df['ocf'] - df['truth']\n",
    "df['month'] = df['ts_start'].dt.month\n",
    "df['day'] = df['ts_start'].dt.day\n",
    "\n",
    "df['abs_client_error'] = abs(df['client'] - df['truth'])\n",
    "df['abs_ocf_error'] = abs(df['ocf'] - df['truth'])\n",
    "\n",
    "\n",
    "avg_error_per_month = df.groupby(['month']).mean()[['client_error', 'ocf_error']].reset_index()\n",
    "\n",
    "avg_error_per_horizon = df.groupby(['horizon']).mean()[['client_error', 'ocf_error']].reset_index()\n",
    "\n",
    "avg_error_per_day = df.groupby(['day']).mean()[['client_error', 'ocf_error']].reset_index()\n",
    "\n",
    "\n",
    "abs_avg_error_per_month = df.groupby(['month']).mean()[['abs_client_error', 'abs_ocf_error']].reset_index()\n",
    "\n",
    "abs_avg_error_per_horizon = df.groupby(['horizon']).mean()[['abs_client_error', 'abs_ocf_error']].reset_index()\n",
    "\n",
    "abs_avg_error_per_day = df.groupby(['day']).mean()[['abs_client_error', 'abs_ocf_error']].reset_index()\n",
    "\n",
    "\n",
    "df\n",
    "#     chart_avg_error_per_month = alt.Chart(avg_error_per_month).mark_bar().encode(\n",
    "#         x='month:N',\n",
    "#         y='value:Q',\n",
    "#         color='model:N',\n",
    "#         column='error_type:N'\n",
    "#     ).properties(\n",
    "#         title='Average Error per Month for Each Model',\n",
    "#         width=600,\n",
    "#         height=300\n",
    "#     )\n",
    "\n",
    "#     chart_avg_error_per_month.display()\n",
    "\n",
    "#     chart_avg_error_per_horizon = alt.Chart(avg_error_per_horizon).mark_line().encode(\n",
    "#         x='horizon:Q',\n",
    "#         y='value:Q',\n",
    "#         color='model:N',\n",
    "#         strokeDash='error_type:N'\n",
    "#     ).properties(\n",
    "#         title='Average Error per Horizon for Each Model',\n",
    "#         width=600,\n",
    "#         height=300\n",
    "#     )\n",
    "\n",
    "#     chart_avg_error_per_horizon.display()\n"
   ]
  },
  {
   "cell_type": "code",
   "execution_count": null,
   "id": "c5e23725",
   "metadata": {},
   "outputs": [],
   "source": [
    "mae_month_horizon(merged_df)"
   ]
  },
  {
   "cell_type": "code",
   "execution_count": null,
   "id": "ae014931",
   "metadata": {},
   "outputs": [],
   "source": [
    "line = (\n",
    "    alt.Chart(avg_error_per_month.melt('month', var_name='error_type', value_name='error'))\n",
    "    .mark_line(interpolate=\"step-after\", point=True)\n",
    "    .encode(\n",
    "        y=alt.Y(\"error\", title=\"Error\", scale=alt.Scale(zero=False)),\n",
    "        color=alt.Color(\"error_type:N\", scale=alt.Scale(domain=['client_error', 'ocf_error'], range=['red', 'blue'])),\n",
    "        x=alt.X(\"month:O\", title=\"Month\")\n",
    "    )\n",
    ")\n",
    "\n",
    "c = (\n",
    "    alt.layer(line).properties(\n",
    "        height=250,\n",
    "        width=700,\n",
    "        title=\"MAE per month\"\n",
    "    )\n",
    ")\n",
    "\n",
    "c\n"
   ]
  },
  {
   "cell_type": "code",
   "execution_count": null,
   "id": "45c05864",
   "metadata": {},
   "outputs": [],
   "source": [
    "line = (\n",
    "    alt.Chart(avg_error_per_horizon.melt('horizon', var_name='error_type', value_name='error'))\n",
    "    .mark_line(interpolate=\"step-after\", point=True)\n",
    "    .encode(\n",
    "        y=alt.Y(\"error\", title=\"Error\", scale=alt.Scale(zero=False)),\n",
    "        color=alt.Color(\"error_type:N\", scale=alt.Scale(domain=['client_error', 'ocf_error'], range=['red', 'blue'])),\n",
    "        x=alt.X(\"horizon:O\", title=\"Horizon\")\n",
    "    )\n",
    ")\n",
    "\n",
    "c = (\n",
    "    alt.layer(line).properties(\n",
    "        height=250,\n",
    "        width=700,\n",
    "        title=\"MAE per horizon\"\n",
    "    )\n",
    ")\n",
    "\n",
    "c"
   ]
  },
  {
   "cell_type": "code",
   "execution_count": null,
   "id": "1cecf821",
   "metadata": {},
   "outputs": [],
   "source": [
    "line = (\n",
    "    alt.Chart(avg_error_per_day.melt('day', var_name='error_type', value_name='error'))\n",
    "    .mark_line(interpolate=\"step-after\", point=True)\n",
    "    .encode(\n",
    "        y=alt.Y(\"error\", title=\"Error\", scale=alt.Scale(zero=False)),\n",
    "        color=alt.Color(\"error_type:N\", scale=alt.Scale(domain=['client_error', 'ocf_error'], range=['red', 'blue'])),\n",
    "        x=alt.X(\"day:O\", title=\"Day\")\n",
    "    )\n",
    ")\n",
    "\n",
    "c = (\n",
    "    alt.layer(line).properties(\n",
    "        height=250,\n",
    "        width=700,\n",
    "        title=\"MAE per day\"\n",
    "    )\n",
    ")\n",
    "\n",
    "c"
   ]
  },
  {
   "cell_type": "code",
   "execution_count": null,
   "id": "ee95d46c",
   "metadata": {},
   "outputs": [],
   "source": [
    "# abs_avg_error_per_month\n",
    "line = (\n",
    "    alt.Chart(abs_avg_error_per_month.melt('month', var_name='error_type', value_name='error'))\n",
    "    .mark_line(interpolate=\"step-after\", point=True)\n",
    "    .encode(\n",
    "        y=alt.Y(\"error\", title=\"Error\", scale=alt.Scale(zero=False)),\n",
    "        color=alt.Color(\"error_type:N\", scale=alt.Scale(domain=['abs_client_error', 'abs_ocf_error'], range=['red', 'blue'])),\n",
    "        x=alt.X(\"month:O\", title=\"Month\")\n",
    "    )\n",
    ")\n",
    "\n",
    "c = (\n",
    "    alt.layer(line).properties(\n",
    "        height=250,\n",
    "        width=700,\n",
    "        title=\"abs MAE per month\"\n",
    "    )\n",
    ")\n",
    "\n",
    "c"
   ]
  },
  {
   "cell_type": "code",
   "execution_count": null,
   "id": "f72cd90c",
   "metadata": {},
   "outputs": [],
   "source": [
    "line = (\n",
    "    alt.Chart(abs_avg_error_per_horizon.melt('horizon', var_name='error_type', value_name='error'))\n",
    "    .mark_line(interpolate=\"step-after\", point=True)\n",
    "    .encode(\n",
    "        y=alt.Y(\"error\", title=\"Error\", scale=alt.Scale(zero=False)),\n",
    "        color=alt.Color(\"error_type:N\", scale=alt.Scale(domain=['abs_client_error', 'abs_ocf_error'], range=['red', 'blue'])),\n",
    "        x=alt.X(\"horizon:O\", title=\"Horizon\")\n",
    "    )\n",
    ")\n",
    "\n",
    "c = (\n",
    "    alt.layer(line).properties(\n",
    "        height=250,\n",
    "        width=700,\n",
    "        title=\"abs MAE per horizon\"\n",
    "    )\n",
    ")\n",
    "\n",
    "c"
   ]
  },
  {
   "cell_type": "code",
   "execution_count": null,
   "id": "84ece3ab",
   "metadata": {},
   "outputs": [],
   "source": [
    "line = (\n",
    "    alt.Chart(abs_avg_error_per_day.melt('day', var_name='error_type', value_name='error'))\n",
    "    .mark_line(interpolate=\"step-after\", point=True)\n",
    "    .encode(\n",
    "        y=alt.Y(\"error\", title=\"Error\", scale=alt.Scale(zero=False)),\n",
    "        color=alt.Color(\"error_type:N\", scale=alt.Scale(domain=['abs_client_error', 'abs_ocf_error'], range=['red', 'blue'])),\n",
    "        x=alt.X(\"day:O\", title=\"Day\")\n",
    "    )\n",
    ")\n",
    "\n",
    "c = (\n",
    "    alt.layer(line).properties(\n",
    "        height=250,\n",
    "        width=700,\n",
    "        title=\"MAE per day\"\n",
    "    )\n",
    ")\n",
    "\n",
    "c"
   ]
  },
  {
   "cell_type": "code",
   "execution_count": null,
   "id": "6ba6a766",
   "metadata": {},
   "outputs": [],
   "source": []
  }
 ],
 "metadata": {
  "kernelspec": {
   "display_name": "Python 3 (ipykernel)",
   "language": "python",
   "name": "python3"
  },
  "language_info": {
   "codemirror_mode": {
    "name": "ipython",
    "version": 3
   },
   "file_extension": ".py",
   "mimetype": "text/x-python",
   "name": "python",
   "nbconvert_exporter": "python",
   "pygments_lexer": "ipython3",
   "version": "3.10.10"
  }
 },
 "nbformat": 4,
 "nbformat_minor": 5
}
