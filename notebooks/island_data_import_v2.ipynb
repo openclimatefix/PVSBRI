{
 "cells": [
  {
   "cell_type": "code",
   "execution_count": null,
   "id": "ed8ddecd",
   "metadata": {},
   "outputs": [],
   "source": [
    "%load_ext autoreload\n",
    "%autoreload 2"
   ]
  },
  {
   "cell_type": "code",
   "execution_count": null,
   "id": "db63cb22",
   "metadata": {},
   "outputs": [],
   "source": [
    "# ------- Import Libs ---------\n",
    "from datetime import datetime\n",
    "import os\n",
    "import pathlib\n",
    "\n",
    "import pandas as pd\n",
    "import altair as alt\n",
    "import matplotlib.pyplot as plt\n",
    "import numpy as np\n",
    "import xarray as xr\n",
    "import math\n",
    "import pytz\n",
    "\n",
    "import warnings\n",
    "import re\n",
    "\n",
    "import plotly.express as px\n",
    "\n",
    "!pip install openpyxl\n",
    "\n",
    "# alt.renderers.enable(\"altair_viewer\")\n",
    "\n",
    "# Disbale the max row limit for altair datasets.\n",
    "# alt.data_transformers.disable_max_rows()"
   ]
  },
  {
   "cell_type": "code",
   "execution_count": null,
   "id": "55a8259f",
   "metadata": {},
   "outputs": [],
   "source": [
    "# # Set the working directory: we use an environment variable defined in the Makefile.\n",
    "# CWD = os.environ.get(\"CWD\")\n",
    "# if CWD:\n",
    "#     os.chdir(CWD)\n",
    "\n",
    "# print(CWD)"
   ]
  },
  {
   "cell_type": "markdown",
   "id": "c479b730",
   "metadata": {},
   "source": []
  },
  {
   "cell_type": "code",
   "execution_count": null,
   "id": "7849e027",
   "metadata": {},
   "outputs": [],
   "source": [
    "def folder_data_load_sorted_h(folder_path):\n",
    "    # This is a list of all of the filenames\n",
    "    files = os.listdir(folder_path)\n",
    "\n",
    "    # Read all Excel files into a list of dataframes\n",
    "    dataframes = []\n",
    "\n",
    "    for filename in files:\n",
    "        if filename.endswith(\".xlsx\"):\n",
    "            file_path = os.path.join(folder_path, filename)\n",
    "\n",
    "            df = pd.read_excel(file_path, engine=\"openpyxl\")\n",
    "\n",
    "            # This returns a tuple\n",
    "            dataframes.append((reference_date, df))\n",
    "\n",
    "    dataframes.sort(key=lambda x: x[0])\n",
    "\n",
    "    sorted_dataframes = [df for _, df in dataframes]\n",
    "\n",
    "    return sorted_dataframes"
   ]
  },
  {
   "cell_type": "code",
   "execution_count": null,
   "id": "b1c0c766",
   "metadata": {},
   "outputs": [],
   "source": [
    "# Best to create a way to look at all of the data now rather then just one specific year.\n",
    "def load_data_from_all_years_h(parent_folder_path_hourly):\n",
    "    # Initialize an empty list to store the dataframes\n",
    "    all_dataframes = []\n",
    "\n",
    "    # folder_path = os.path.join(parent_folder_path, ,str(year))\n",
    "    dataframes = folder_data_load_sorted_h(parent_folder_path_hourly)\n",
    "    all_dataframes.extend(dataframes)\n",
    "\n",
    "    return all_dataframes"
   ]
  },
  {
   "cell_type": "code",
   "execution_count": null,
   "id": "bca52169",
   "metadata": {},
   "outputs": [],
   "source": [
    "# ---------- Hourly data -------------\n",
    "def load_all_hourly(parent_folder_path):\n",
    "\n",
    "    # This is a list of all of the filenames\n",
    "    files = os.listdir(parent_folder_path)\n",
    "\n",
    "    # Read all Excel files into a list of dataframes\n",
    "    dataframes = []\n",
    "\n",
    "    for filename in files:\n",
    "        if filename.endswith(\".xlsx\"):\n",
    "            file_path = os.path.join(parent_folder_path, filename)\n",
    "\n",
    "            df = pd.read_excel(file_path, engine=\"openpyxl\")\n",
    "\n",
    "            # This returns a tuple\n",
    "            dataframes.append(df)\n",
    "\n",
    "\n",
    "    all_combined_df = pd.concat(dataframes, ignore_index=True)\n",
    "\n",
    "    # Sort the DataFrame based on the 'Datetime' column\n",
    "    all_combined_df_sort = all_combined_df.sort_values(by=\"Date\")\n",
    "\n",
    "    return all_combined_df_sort\n"
   ]
  },
  {
   "cell_type": "code",
   "execution_count": null,
   "id": "55bf819c",
   "metadata": {},
   "outputs": [],
   "source": [
    "def convert_to_utc(df, source_timezone):\n",
    "\n",
    "    # Create timezone objects for source and target (UTC) timezones\n",
    "    source_tz = pytz.timezone(source_timezone)\n",
    "    target_tz = pytz.UTC\n",
    "\n",
    "    if not isinstance(df.index, pd.DatetimeIndex):\n",
    "        # Convert the \"datetime\" column to a DatetimeIndex\n",
    "        df[\"Datetime\"] = pd.to_datetime(df[\"Datetime\"])\n",
    "        df.set_index(\"Datetime\", inplace=True)\n",
    "\n",
    "    # Localize the DatetimeIndex to the source timezone, handling ambiguous and non-existent times\n",
    "    df_source_tz = df.index.tz_localize(source_tz, ambiguous=\"NaT\", nonexistent=\"NaT\")\n",
    "\n",
    "    # Convert the DatetimeIndex to the target timezone (UTC)\n",
    "    df_utc = df_source_tz.tz_convert(target_tz)\n",
    "\n",
    "    # Set the DatetimeIndex as a column in the DataFrame\n",
    "    df[\"datetimeUTC\"] = df_utc\n",
    "\n",
    "    df.set_index(\"datetimeUTC\", inplace=True)\n",
    "\n",
    "    return df"
   ]
  },
  {
   "cell_type": "code",
   "execution_count": null,
   "id": "7775fe11",
   "metadata": {},
   "outputs": [],
   "source": [
    "# 1. Load the data into a single list\n",
    "parent_folder_path_hourly = \"/mnt/storage_b/data/ocf/solar_pv_nowcasting/clients/island/hourly_raw_data\"\n",
    "hourly_data_raw = load_all_hourly(parent_folder_path_hourly)\n",
    "print(\"--------- COMPLETE 1 --------\")"
   ]
  },
  {
   "cell_type": "code",
   "execution_count": null,
   "id": "74c1192f",
   "metadata": {},
   "outputs": [],
   "source": [
    "hourly_data_raw.iloc[1000]"
   ]
  },
  {
   "cell_type": "code",
   "execution_count": null,
   "id": "16faaab2",
   "metadata": {},
   "outputs": [],
   "source": [
    "\"\"\"\n",
    "# 1. Load the data - Single excel file \n",
    "folder_path = \"./data/island_A/Hourly-PV/format_test/HourlyPVgeneratedUnits_2018_test.xlsx\"\n",
    "# folder_path = './data/island_A/15-min-PV/2019/2019-01-03_PVMalta.xlsx'\n",
    "hourly_data_raw = read_excel_file(folder_path)\n",
    "\"\"\""
   ]
  },
  {
   "cell_type": "code",
   "execution_count": null,
   "id": "a93ca119",
   "metadata": {},
   "outputs": [],
   "source": [
    "# 2. Convert into usable format (Transpose of hours)\n",
    "def transpose_data(df):\n",
    "\n",
    "    # Convert column names to integers\n",
    "    hour_columns = [col for col in df.columns if str(col).isdigit()]\n",
    "\n",
    "    # melt the data\n",
    "    # XXX Need to retain other information, edit this\n",
    "    melted = df.melt(\n",
    "        id_vars=[\n",
    "            \"Date\",\n",
    "            \" Total Max Capacity of Read Meters/KW\",\n",
    "            \"Total Max Capacity\",\n",
    "            \"Number of Read Meters\",\n",
    "            \"Total Number of Meters\",\n",
    "        ],\n",
    "        value_vars=hour_columns,\n",
    "        var_name=\"Hour\",\n",
    "    )\n",
    "\n",
    "    melted = melted.dropna()\n",
    "\n",
    "    melted[\"Date\"] = pd.to_datetime(melted[\"Date\"])\n",
    "    melted[\"Hour\"] = pd.to_timedelta(melted[\"Hour\"], unit=\"h\")\n",
    "\n",
    "    melted[\"Datetime\"] = melted[\"Date\"] + melted[\"Hour\"]\n",
    "\n",
    "    # Sort the DataFrame based on the 'Datetime' column\n",
    "    melted_sorted = melted.sort_values(by=\"Datetime\")\n",
    "\n",
    "    melted_sorted.rename(columns={\"value\": \"Hourly PV Generated Units\"}, inplace=True)\n",
    "\n",
    "    return melted_sorted\n",
    "\n",
    "\n",
    "hourly_data = transpose_data(hourly_data_raw)\n",
    "\n",
    "print(\"--------- COMPLETE 2 --------\")"
   ]
  },
  {
   "cell_type": "code",
   "execution_count": null,
   "id": "bb51b6c8",
   "metadata": {},
   "outputs": [],
   "source": [
    "hourly_data"
   ]
  },
  {
   "cell_type": "code",
   "execution_count": null,
   "id": "f34d5756",
   "metadata": {},
   "outputs": [],
   "source": [
    "# 3. Save the file\n",
    "# hourly_data.to_csv(\"...\", index=True)"
   ]
  },
  {
   "cell_type": "code",
   "execution_count": null,
   "id": "9f1a1f22",
   "metadata": {},
   "outputs": [],
   "source": [
    "#v2 DOES THIS STEP (mark out the step you dont want to do!)\n",
    "\n",
    "#-----------------------\n",
    "# # 4. Apply UTC conversion\n",
    "# source_timezone = \"Europe/Malta\"  # Replace with the desired timezone\n",
    "# data_hourly_utc = convert_to_utc(hourly_data, source_timezone)\n",
    "#----------------------\n",
    "\n",
    "\n",
    "#v5 DOES THIS STEP\n",
    "#----------------------\n",
    "# Convert datetime column to datetime objects\n",
    "hourly_data['Datetime'] = pd.to_datetime(hourly_data['Datetime'])\n",
    "\n",
    "# Shift datetime values back one hour\n",
    "hourly_data['Datetime'] = hourly_data['Datetime'] - pd.DateOffset(hours=1)\n",
    "\n",
    "data_hourly_utc = hourly_data\n",
    "#----------------------"
   ]
  },
  {
   "cell_type": "code",
   "execution_count": null,
   "id": "05f710e8",
   "metadata": {},
   "outputs": [],
   "source": [
    "data_hourly_utc #=data_hourly"
   ]
  },
  {
   "cell_type": "code",
   "execution_count": null,
   "id": "8843479d",
   "metadata": {},
   "outputs": [],
   "source": [
    "# 4.1. Save the file\n",
    "# data_hourly_utc.to_csv(\"...\", index=True)"
   ]
  },
  {
   "cell_type": "code",
   "execution_count": null,
   "id": "7144407b",
   "metadata": {},
   "outputs": [],
   "source": [
    "data_hourly_utc"
   ]
  },
  {
   "cell_type": "code",
   "execution_count": null,
   "id": "a9bf9761",
   "metadata": {},
   "outputs": [],
   "source": [
    "# 5. Drop unused information\n",
    "def drop_unused_hourly(df):\n",
    "\n",
    "    df = df.drop([\"Date\", \"Hour\"], 1)\n",
    "    df = df.reset_index()\n",
    "    \n",
    "    return df\n",
    "\n",
    "data_hourly_utc_drop = drop_unused_hourly(data_hourly_utc)"
   ]
  },
  {
   "cell_type": "code",
   "execution_count": null,
   "id": "4c4ce47c",
   "metadata": {},
   "outputs": [],
   "source": [
    "data_hourly_utc_drop.head(20)"
   ]
  },
  {
   "cell_type": "code",
   "execution_count": null,
   "id": "14ab232e",
   "metadata": {},
   "outputs": [],
   "source": [
    "def conv_df(df):\n",
    "    \n",
    "    df = df.rename(columns={'Datetime': 'datetimeUTC'})\n",
    "    df = df.set_index('datetimeUTC')\n",
    "    \n",
    "    data_array = xr.Dataset(df)\n",
    "    \n",
    "    data_array = data_array.rename({'Hourly PV Generated Units': 'Hourly PV Generated Units (MW)'})\n",
    "    data_array = data_array.rename({\"Total Max Capacity\":'Total Max Capacity (MW)'})\n",
    "    \n",
    "    data_array = data_array.expand_dims({\"id\": [0]})\n",
    "    \n",
    "    data_array = data_array.assign_coords(latitude=(\"id\", [35.9]))\n",
    "    data_array = data_array.assign_coords(longitude=(\"id\", [14.5]))\n",
    "\n",
    "    return data_array\n",
    "\n",
    "\n",
    "data_array = conv_df(data_hourly_utc_drop)"
   ]
  },
  {
   "cell_type": "code",
   "execution_count": null,
   "id": "9f962607",
   "metadata": {},
   "outputs": [],
   "source": [
    "data_array = data_array.rename({\" Total Max Capacity of Read Meters/KW\": \"Total Max Capacity of Read Meters (KW)\"})"
   ]
  },
  {
   "cell_type": "code",
   "execution_count": null,
   "id": "b8a8c11f",
   "metadata": {},
   "outputs": [],
   "source": [
    "data_array"
   ]
  },
  {
   "cell_type": "code",
   "execution_count": null,
   "id": "7d156b78",
   "metadata": {},
   "outputs": [],
   "source": [
    "print(data_array.variables.keys())"
   ]
  },
  {
   "cell_type": "code",
   "execution_count": null,
   "id": "6bf312ae",
   "metadata": {},
   "outputs": [],
   "source": [
    "#/mnt/storage_b/data/ocf/solar_pv_nowcasting/clients/island/....\n",
    "data_array.to_netcdf(\".nc\")"
   ]
  },
  {
   "cell_type": "code",
   "execution_count": null,
   "id": "67e686d4",
   "metadata": {},
   "outputs": [],
   "source": [
    "data_hourly_xarray"
   ]
  },
  {
   "cell_type": "markdown",
   "id": "22496765",
   "metadata": {},
   "source": []
  }
 ],
 "metadata": {
  "kernelspec": {
   "display_name": "Python 3 (ipykernel)",
   "language": "python",
   "name": "python3"
  },
  "language_info": {
   "codemirror_mode": {
    "name": "ipython",
    "version": 3
   },
   "file_extension": ".py",
   "mimetype": "text/x-python",
   "name": "python",
   "nbconvert_exporter": "python",
   "pygments_lexer": "ipython3",
   "version": "3.10.10"
  },
  "toc": {
   "base_numbering": 1,
   "nav_menu": {},
   "number_sections": true,
   "sideBar": true,
   "skip_h1_title": false,
   "title_cell": "Table of Contents",
   "title_sidebar": "Contents",
   "toc_cell": false,
   "toc_position": {},
   "toc_section_display": true,
   "toc_window_display": false
  }
 },
 "nbformat": 4,
 "nbformat_minor": 5
}
