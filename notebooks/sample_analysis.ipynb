{
 "cells": [
  {
   "cell_type": "code",
   "execution_count": null,
   "id": "97a634b1",
   "metadata": {},
   "outputs": [],
   "source": [
    "%load_ext autoreload\n",
    "%autoreload 2"
   ]
  },
  {
   "cell_type": "code",
   "execution_count": null,
   "id": "3b350918",
   "metadata": {},
   "outputs": [],
   "source": [
    "from IPython.display import display, HTML\n",
    "\n",
    "display(HTML(\"<style>.container { width:100% !important; }</style>\"))"
   ]
  },
  {
   "cell_type": "code",
   "execution_count": null,
   "id": "207613df",
   "metadata": {},
   "outputs": [],
   "source": [
    "import datetime as dt\n",
    "import os\n",
    "import pathlib\n",
    "import importlib\n",
    "\n",
    "import shap\n",
    "import pandas as pd\n",
    "import altair as alt\n",
    "import numpy as np\n",
    "import pvlib\n",
    "from psp.serialization import load_model\n",
    "from psp.data_sources.pv import NetcdfPvDataSource\n",
    "from psp.data_sources.nwp import NwpDataSource\n",
    "from psp.typings import X\n",
    "from psp.visualization import plot_sample\n",
    "from psp.metrics import mean_absolute_error\n",
    "from psp.models.multi import MultiPvSiteModel\n",
    "\n",
    "import plotly.express as px\n",
    "\n",
    "alt.data_transformers.disable_max_rows()\n",
    "\n",
    "\n",
    "def _(df, *args, **kwargs):\n",
    "    print(len(df))\n",
    "    display(df.head(*args, **kwargs))"
   ]
  },
  {
   "cell_type": "code",
   "execution_count": null,
   "id": "1b30ff76",
   "metadata": {},
   "outputs": [],
   "source": [
    "# It's always annoying to set the working directory: we use an environment variable defined in the Makefile.\n",
    "CWD = os.environ.get(\"CWD\")\n",
    "if CWD:\n",
    "    os.chdir(CWD)"
   ]
  },
  {
   "cell_type": "code",
   "execution_count": null,
   "id": "3366bf54",
   "metadata": {},
   "outputs": [],
   "source": [
    "EXP_NAMES = [\"exc_t_nwpF_excF\",\n",
    "            \"exc_t_nwpT_excF\",\n",
    "            \"exc_t_nwpF_excT\",\n",
    "            \"exc_t_nwpT_excT\"]"
   ]
  },
  {
   "cell_type": "code",
   "execution_count": null,
   "id": "2faad7cf",
   "metadata": {},
   "outputs": [],
   "source": [
    "COLORS = [\n",
    "    \"#086788\",\n",
    "    \"#4c9a8e\",\n",
    "    \"#ff9736\",\n",
    "    \"#ffd053\",\n",
    "    \"#63bcaf\",\n",
    "    \"#e4e4e4\",\n",
    "    \"#ffac5f\",\n",
    "    \"#7bcdf3\",\n",
    "    \"#14120e\",\n",
    "]"
   ]
  },
  {
   "cell_type": "code",
   "execution_count": null,
   "id": "389f7a42",
   "metadata": {},
   "outputs": [],
   "source": [
    "EXP_ROOT = pathlib.Path(\"exp_results\")"
   ]
  },
  {
   "cell_type": "code",
   "execution_count": null,
   "id": "ab6dcd00",
   "metadata": {
    "scrolled": false
   },
   "outputs": [],
   "source": [
    "def load_testset(exp, split=\"test\"):\n",
    "    \n",
    "    for ext in [\".csv.gz\", \".csv\"]:\n",
    "        try:\n",
    "            path = f\"{EXP_ROOT}/{exp}/{split}_errors{ext}\"\n",
    "            testset = pd.read_csv(path, dtype={\"pv_id\": str}, parse_dates=[\"ts\"])\n",
    "        except FileNotFoundError as e:\n",
    "            # print(e)\n",
    "            continue\n",
    "\n",
    "    testset[\"pred_ts\"] = testset[\"ts\"] + pd.to_timedelta(testset[\"horizon\"], unit=\"minute\")\n",
    "    testset[\"exp\"] = exp\n",
    "    return testset\n",
    "\n",
    "\n",
    "testset = pd.concat([load_testset(exp) for exp in EXP_NAMES])\n",
    "_(testset)"
   ]
  },
  {
   "cell_type": "code",
   "execution_count": null,
   "id": "8037987b",
   "metadata": {},
   "outputs": [],
   "source": [
    "# Note that we are loading the ground truth from the first config in the case where we have many models.\n",
    "first_exp_config = importlib.import_module(\".config\", f\"{EXP_ROOT}.{EXP_NAMES[0]}\").ExpConfig()\n",
    "pv_ds = first_exp_config.get_pv_data_source()"
   ]
  },
  {
   "cell_type": "code",
   "execution_count": null,
   "id": "347bed1d",
   "metadata": {
    "scrolled": false
   },
   "outputs": [],
   "source": [
    "# exp_name: model\n",
    "models = {}\n",
    "\n",
    "for name in EXP_NAMES:\n",
    "    exp_config = importlib.import_module(\".config\", f\"exp_results.{name}\").ExpConfig()\n",
    "\n",
    "    date_splits = exp_config.get_date_splits()  # .train_dates\n",
    "    train_dates = [dt.train_date for dt in date_splits.train_date_splits]\n",
    "\n",
    "    # Load the saved models for a given exp.\n",
    "    model_list = [load_model(EXP_ROOT / name / f\"model_{i}.pkl\") for i in range(len(train_dates))]\n",
    "    _models = {date: model for date, model in zip(train_dates, model_list)}\n",
    "    # Wrap them into one big meta model.\n",
    "    model = MultiPvSiteModel(_models)\n",
    "\n",
    "    model.set_data_sources(**exp_config.get_data_source_kwargs())\n",
    "\n",
    "    models[name] = model"
   ]
  },
  {
   "cell_type": "code",
   "execution_count": null,
   "id": "4c793b81",
   "metadata": {},
   "outputs": [],
   "source": [
    "testset = testset.sort_values(\"error\", ascending=False)"
   ]
  },
  {
   "cell_type": "code",
   "execution_count": null,
   "id": "da5911d9",
   "metadata": {},
   "outputs": [],
   "source": [
    "_(testset, 20)"
   ]
  },
  {
   "cell_type": "code",
   "execution_count": null,
   "id": "5a4f6316",
   "metadata": {
    "scrolled": false
   },
   "outputs": [],
   "source": [
    "SAMPLE_IDX = 100\n",
    "\n",
    "from psp.visualization import find_horizon_index\n",
    "import shap\n",
    "\n",
    "shap.initjs()\n",
    "\n",
    "test_row = testset[\n",
    "    # (testset[\"horizon\"] == 60 * 4)\n",
    "    # &\n",
    "    #    (testset[\"horizon\"] > 60 * 4) &\n",
    "    # ((testset[\"ts\"]).dt.hour == 0)\n",
    "    # &\n",
    "    #         ((testset['ts']).dt.hour < 12) &\n",
    "    (testset[\"y\"] > 0.1)\n",
    "    & (testset[\"pv_id\"] != \"7759\")\n",
    "].iloc[SAMPLE_IDX]\n",
    "\n",
    "print(\"test row\")\n",
    "print(test_row)\n",
    "print()\n",
    "row = dict(test_row)\n",
    "ts = row[\"ts\"]\n",
    "# horizon_idx = 0\n",
    "horizon = test_row[\"horizon\"]\n",
    "\n",
    "# print(horizon_idx)\n",
    "# horizon_idx = 10 * 60 // 15\n",
    "pv_id = row[\"pv_id\"]\n",
    "\n",
    "# Tweak the sample\n",
    "# ts = dt.datetime(2022, 9, 27, 8)\n",
    "# pred_ts = ts + dt.timedelta(hours=4)\n",
    "# ts = ts + dt.timedelta(days=2)\n",
    "# horizon_idx = 24 * 4\n",
    "# horizon = round((pred_ts - ts).total_seconds() / 60.)\n",
    "# print(horizon)\n",
    "# Hack the sample\n",
    "# pv_id = '27000'\n",
    "# ts = dt.datetime(2021, 7, 31, 12, 30)\n",
    "# ts= row['ts'] + dt.timedelta(days=9.5) + dt.timedelta(minutes=60)\n",
    "# horizon_idx = 0\n",
    "\n",
    "# Assume all the models use the same horizons.\n",
    "horizons = first_exp_config.get_model_config().horizons\n",
    "horizon_idx = find_horizon_index(horizon, horizons)\n",
    "\n",
    "plot_sample(\n",
    "    x=X(pv_id=pv_id, ts=ts),\n",
    "    horizon_idx=horizon_idx,\n",
    "    horizons=horizons,\n",
    "    models=models,\n",
    "    pv_data_source=pv_ds,\n",
    "    nwp_data_source=None,\n",
    "    colors=COLORS,\n",
    "    resample_pv=True,\n",
    ")"
   ]
  },
  {
   "cell_type": "code",
   "execution_count": null,
   "id": "b754b39e",
   "metadata": {
    "scrolled": false
   },
   "outputs": [],
   "source": [
    "xs = [X(pv_id=row[\"pv_id\"], ts=row[\"ts\"]) for _, row in testset.sample(20).iterrows()]\n",
    "\n",
    "for model_name, model in models.items():\n",
    "    print(model_name)\n",
    "    try:\n",
    "        explanations = [model.explain(x) for x in xs]\n",
    "    except Exception:\n",
    "        continue\n",
    "    explanation = sum(explanations) / len(explanations)\n",
    "\n",
    "    display(shap.plots.bar(explanation))"
   ]
  },
  {
   "cell_type": "code",
   "execution_count": null,
   "id": "a8ff216a",
   "metadata": {},
   "outputs": [],
   "source": []
  }
 ],
 "metadata": {
  "kernelspec": {
   "display_name": "Python 3 (ipykernel)",
   "language": "python",
   "name": "python3"
  },
  "language_info": {
   "codemirror_mode": {
    "name": "ipython",
    "version": 3
   },
   "file_extension": ".py",
   "mimetype": "text/x-python",
   "name": "python",
   "nbconvert_exporter": "python",
   "pygments_lexer": "ipython3",
   "version": "3.10.10"
  }
 },
 "nbformat": 4,
 "nbformat_minor": 5
}
